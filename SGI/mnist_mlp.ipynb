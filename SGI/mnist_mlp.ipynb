{
 "cells": [
  {
   "cell_type": "code",
   "execution_count": 4,
   "metadata": {},
   "outputs": [
    {
     "name": "stdout",
     "output_type": "stream",
     "text": [
      "Successfully downloaded train-images-idx3-ubyte.gz 9912422 bytes.\n",
      "Extracting ./data/train-images-idx3-ubyte.gz\n",
      "Successfully downloaded train-labels-idx1-ubyte.gz 28881 bytes.\n",
      "Extracting ./data/train-labels-idx1-ubyte.gz\n",
      "Successfully downloaded t10k-images-idx3-ubyte.gz 1648877 bytes.\n",
      "Extracting ./data/t10k-images-idx3-ubyte.gz\n",
      "Successfully downloaded t10k-labels-idx1-ubyte.gz 4542 bytes.\n",
      "Extracting ./data/t10k-labels-idx1-ubyte.gz\n"
     ]
    }
   ],
   "source": [
    "import numpy as np\n",
    "import tensorflow as tf\n",
    "import matplotlib.pyplot as plt\n",
    "%matplotlib inline  \n",
    "from tensorflow.examples.tutorials.mnist import input_data\n",
    "\n",
    "mnist = input_data.read_data_sets('./data/', one_hot = True)\n",
    "training_img = mnist.train.images\n",
    "training_lab = mnist.train.labels\n",
    "test_img = mnist.test.images\n",
    "test_lab = mnist.test.labels"
   ]
  },
  {
   "cell_type": "code",
   "execution_count": 5,
   "metadata": {},
   "outputs": [],
   "source": [
    "# MLP Model\n",
    "\n",
    "x = tf.placeholder(tf.float32, [None, 784])\n",
    "y = tf.placeholder(tf.float32, [None, 10])\n",
    "\n",
    "W_1 = tf.Variable(tf.random_normal([784, 128]))\n",
    "b_1 = tf.Variable(tf.zeros([128]))\n",
    "\n",
    "z_1 = tf.matmul(x, W_1) + b_1\n",
    "a_1 = tf.nn.sigmoid(z_1)\n",
    "\n",
    "W_2 = tf.Variable(tf.random_normal([128, 32]))\n",
    "b_2 = tf.Variable(tf.zeros([32]))\n",
    "\n",
    "z_2 = tf.matmul(a_1, W_2) + b_2\n",
    "a_2 = tf.nn.sigmoid(z_2)\n",
    "\n",
    "W_3 = tf.Variable(tf.random_normal([32, 10]))\n",
    "b_3 = tf.Variable(tf.zeros([10]))\n",
    "\n",
    "z_3 = tf.matmul(a_2, W_3) + b_3\n",
    "a_3 = tf.nn.softmax(z_3)\n",
    "\n",
    "cross_entropy = - tf.reduce_sum(y * tf.log(tf.maximum(a_3, 1e-15)), reduction_indices=1)\n",
    "cost = tf.reduce_mean(cross_entropy)\n",
    "\n",
    "# softmax_cross_entropy = tf.nn.softmax_cross_entropy_with_logits(labels = y , logits = z_3)\n",
    "# cost = tf.reduce_mean(softmax_cross_entropy) \n",
    "\n",
    "\n",
    "optimization = tf.train.GradientDescentOptimizer(learning_rate=0.5).minimize(cost) \n",
    "\n",
    "# https://www.tensorflow.org/versions/r0.12/api_docs/python/train/optimizers\n",
    "# tf.train.GradientDescentOptimizer\n",
    "# tf.train.AdadeltaOptimizer\n",
    "# tf.train.AdagradOptimizer\n",
    "# tf.train.MomentumOptimizer\n",
    "# tf.train.AdamOptimizer\n",
    "# tf.train.RMSPropOptimizer\n",
    "\n",
    "# http://ruder.io/optimizing-gradient-descent/\n",
    "\n",
    "correct_prediction = tf.equal(tf.argmax(a_3, 1), tf.argmax(y, 1))    \n",
    "accuracy = tf.reduce_mean(tf.cast(correct_prediction, tf.float32))"
   ]
  },
  {
   "cell_type": "code",
   "execution_count": 9,
   "metadata": {
    "scrolled": false
   },
   "outputs": [
    {
     "name": "stdout",
     "output_type": "stream",
     "text": [
      "TRAIN ACCURACY: 0.998\n",
      "TEST ACCURACY: 0.946\n",
      "TRAIN ACCURACY: 0.999\n",
      "TEST ACCURACY: 0.946\n",
      "TRAIN ACCURACY: 0.999\n",
      "TEST ACCURACY: 0.946\n",
      "TRAIN ACCURACY: 0.999\n",
      "TEST ACCURACY: 0.946\n",
      "TRAIN ACCURACY: 0.999\n",
      "TEST ACCURACY: 0.946\n",
      "TRAIN ACCURACY: 0.999\n",
      "TEST ACCURACY: 0.947\n",
      "TRAIN ACCURACY: 0.999\n",
      "TEST ACCURACY: 0.947\n",
      "TRAIN ACCURACY: 1.000\n",
      "TEST ACCURACY: 0.946\n",
      "TRAIN ACCURACY: 1.000\n",
      "TEST ACCURACY: 0.946\n",
      "TRAIN ACCURACY: 1.000\n",
      "TEST ACCURACY: 0.946\n",
      "Finished\n"
     ]
    }
   ],
   "source": [
    "# Training\n",
    "\n",
    "training_epochs = 200\n",
    "display_step    = 10\n",
    "batch_size = 100\n",
    "\n",
    "# init = tf.global_variables_initializer()\n",
    "# sess = tf.Session()\n",
    "# sess.run(init)\n",
    "\n",
    "for epoch in range(training_epochs):\n",
    "    total_batch = int(mnist.train.num_examples/batch_size)\n",
    "   \n",
    "    for iteration in range(total_batch):\n",
    "        batch_xs, batch_ys = mnist.train.next_batch(batch_size)\n",
    "        sess.run(optimization, feed_dict={x: batch_xs, y: batch_ys})\n",
    "   \n",
    "    if (epoch) % display_step == 0:\n",
    "        \n",
    "        # training set accuracy     \n",
    "        feed_training = {x: training_img, y: training_lab}\n",
    "        train_acc = sess.run(accuracy, feed_dict=feed_training)\n",
    "        print (\"TRAIN ACCURACY: %.3f\" % (train_acc))\n",
    "        \n",
    "        # test set accuracy\n",
    "        feed_test = {x: test_img, y: test_lab}\n",
    "        pred, test_corr, test_acc = sess.run([tf.argmax(a_3, 1), correct_prediction, accuracy], feed_dict=feed_test)\n",
    "        print (\"TEST ACCURACY: %.3f\" % (test_acc))\n",
    "\n",
    "print(\"Finished\")"
   ]
  },
  {
   "cell_type": "code",
   "execution_count": 10,
   "metadata": {
    "collapsed": true
   },
   "outputs": [],
   "source": [
    "def image_show(*args):\n",
    "    \n",
    "\n",
    "    images = {}\n",
    "    pred_labels = {}\n",
    "    target_labels = {}\n",
    "    if len(args)<5:\n",
    "        print(\"5 이상의 숫자를 입력해주세요.\")\n",
    "    else:\n",
    "        fig, axes = plt.subplots(len(args)//5+1, 5,  figsize = (30, 6*len(args)//5+1))\n",
    "        len(args)\n",
    "   \n",
    "        for k in range(5-(len(args)%5)):\n",
    "            fig.delaxes(axes[len(args)//5][4-k])\n",
    "\n",
    "        i = 0\n",
    "        for i in args:\n",
    "            images[i] = np.reshape(test_img[np.where(test_corr==False)[0][i]],(28,28))\n",
    "            pred_labels[i] = pred[np.where(test_corr==False)[0][i]]\n",
    "            target_labels[i] = test_lab[np.where(test_corr==False)[0][i]]\n",
    "            axes[args.index(i)//5, args.index(i)%5].set_title(\"Target : {}\".format(np.argmax(target_labels[i])) +\n",
    "                                      \"\\nPrediction : {}\".format(pred_labels[i] ),  fontsize=30)    \n",
    "            axes[args.index(i)//5, args.index(i)%5].imshow(images[i], cmap=plt.get_cmap('gray'))\n",
    "            fig.tight_layout()\n",
    "            axes[args.index(i)//5, args.index(i)%5].set_aspect('equal')        \n",
    "            i += 1  \n",
    "        plt.show()\n",
    "    \n",
    "def false_img(num):\n",
    "     random_num = np.random.choice(len(np.where(test_corr==False)[0]), size=num)\n",
    "     image_show(*random_num)     "
   ]
  },
  {
   "cell_type": "code",
   "execution_count": 11,
   "metadata": {},
   "outputs": [
    {
     "data": {
      "image/png": "[encoded data removed]",
      "text/plain": [
       "<matplotlib.figure.Figure at 0x1a33102eb8>"
      ]
     },
     "metadata": {},
     "output_type": "display_data"
    }
   ],
   "source": [
    "false_img(5)"
   ]
  },
  {
   "cell_type": "code",
   "execution_count": null,
   "metadata": {
    "collapsed": true
   },
   "outputs": [],
   "source": []
  }
 ],
 "metadata": {
  "anaconda-cloud": {},
  "kernelspec": {
   "display_name": "Python 3",
   "language": "python",
   "name": "python3"
  },
  "language_info": {
   "codemirror_mode": {
    "name": "ipython",
    "version": 3
   },
   "file_extension": ".py",
   "mimetype": "text/x-python",
   "name": "python",
   "nbconvert_exporter": "python",
   "pygments_lexer": "ipython3",
   "version": "3.6.3"
  }
 },
 "nbformat": 4,
 "nbformat_minor": 2
}
