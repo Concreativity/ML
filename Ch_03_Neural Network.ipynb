{
 "cells": [
  {
   "cell_type": "markdown",
   "metadata": {},
   "source": [
    "# Ch03 신경망"
   ]
  },
  {
   "cell_type": "markdown",
   "metadata": {},
   "source": [
    "퍼셉트론은 가중치와 편향을 일일이 조정해야 하는 불편함이 있다.\n",
    "\n",
    "하지만 신경망은 그런 일을 스스로 함."
   ]
  },
  {
   "cell_type": "markdown",
   "metadata": {},
   "source": [
    "3.1 퍼셉트론에서 신경망으로\n",
    "\n",
    "3.1.1 신경망의 예\n",
    "\n",
    "그림 3-1 :신경망은 입력층, 은닉층, 출력층으로 구성\n",
    "\n",
    "3.1.2 퍼셉트론 복습\n",
    "\n",
    "식 3.1 : 퍼셉트론은 편향과 가중치를 통해 설명됨.\n",
    "\n",
    "그림 3.3 : 퍼셉트론의 편향을 가시화.\n",
    "\n",
    "식 3.1을 좀 더 간결히 식 3.2와 식 3.3으로 표현 가능.\n",
    "\n",
    "3.1.3 활성화 함수\n",
    "\n",
    "앞서 정의한 $h$를 활성화 함수라고 한다.\n",
    "\n",
    "그림 3.4 : 활성화 함수 처리 과정\n",
    "\n",
    "그림 3.5 : 일반적인 뉴런과 활성화 과정을 강조한 뉴런"
   ]
  },
  {
   "cell_type": "markdown",
   "metadata": {},
   "source": [
    "3.2 활성화 함수\n",
    "\n",
    "식 3.3 은 step function이다. \n",
    "그러면 꼭 활성화 함수를 step function으로만 사용해야하나?\n",
    "다른 함수도 사용이 가능.\n",
    "\n",
    "3.2.1 시그모이드 함수\n",
    "\n",
    "식 3.6 : 시그모이드 함수 정의\n",
    "\n",
    "3.2.2 step function 구현\n"
   ]
  },
  {
   "cell_type": "code",
   "execution_count": 1,
   "metadata": {
    "collapsed": true
   },
   "outputs": [],
   "source": [
    "#Step function\n",
    "def step_function(x):\n",
    "    if x>0:\n",
    "        return 1\n",
    "    else :\n",
    "        return 0"
   ]
  },
  {
   "cell_type": "code",
   "execution_count": 2,
   "metadata": {
    "collapsed": false
   },
   "outputs": [
    {
     "data": {
      "text/plain": [
       "(1, 0)"
      ]
     },
     "execution_count": 2,
     "metadata": {},
     "output_type": "execute_result"
    }
   ],
   "source": [
    "step_function(2),step_function(-1)"
   ]
  },
  {
   "cell_type": "markdown",
   "metadata": {},
   "source": [
    "위의 step function은 정의역이 실수밖에 안된다.\n",
    "\n",
    "$\\mathbb{R}^{n}$ 같은 벡터를 인자로 가지려면,,"
   ]
  },
  {
   "cell_type": "code",
   "execution_count": 3,
   "metadata": {
    "collapsed": true
   },
   "outputs": [],
   "source": [
    "import numpy as np\n",
    "\n",
    "def step_function(x):\n",
    "    y = x > 0\n",
    "    return y.astype(np.int)"
   ]
  },
  {
   "cell_type": "code",
   "execution_count": 4,
   "metadata": {
    "collapsed": false
   },
   "outputs": [
    {
     "data": {
      "text/plain": [
       "array([1, 0])"
      ]
     },
     "execution_count": 4,
     "metadata": {},
     "output_type": "execute_result"
    }
   ],
   "source": [
    "step_function(np.array([2,-1])) #각각 원소마다 step function이 적용 되는듯."
   ]
  },
  {
   "cell_type": "code",
   "execution_count": 6,
   "metadata": {
    "collapsed": false
   },
   "outputs": [
    {
     "data": {
      "text/plain": [
       "array([-1,  1,  2])"
      ]
     },
     "execution_count": 6,
     "metadata": {},
     "output_type": "execute_result"
    }
   ],
   "source": [
    "#위의 코드 풀어보자.\n",
    "x = np.array([-1, 1, 2])\n",
    "x"
   ]
  },
  {
   "cell_type": "code",
   "execution_count": 6,
   "metadata": {
    "collapsed": false
   },
   "outputs": [
    {
     "data": {
      "text/plain": [
       "array([False,  True,  True], dtype=bool)"
      ]
     },
     "execution_count": 6,
     "metadata": {},
     "output_type": "execute_result"
    }
   ],
   "source": [
    "y = x > 0 #넘피 배열에 부등호 연산을 취하면 원소 각각에 부등호로 bool 연산 수행\n",
    "y"
   ]
  },
  {
   "cell_type": "code",
   "execution_count": 7,
   "metadata": {
    "collapsed": false
   },
   "outputs": [
    {
     "data": {
      "text/plain": [
       "array([0, 1, 1])"
      ]
     },
     "execution_count": 7,
     "metadata": {},
     "output_type": "execute_result"
    }
   ],
   "source": [
    "y = y.astype(np.int) #True, False 타입을 int형 변수로 바꿔줌.\n",
    "y"
   ]
  },
  {
   "cell_type": "markdown",
   "metadata": {},
   "source": [
    "3.2.3 step function 그래프\n",
    "\n",
    "그래프 그리기 위해 matplotlib 라이브러리 사용"
   ]
  },
  {
   "cell_type": "code",
   "execution_count": 9,
   "metadata": {
    "collapsed": false
   },
   "outputs": [
    {
     "data": {
      "image/png": "[encoded data removed]",
      "text/plain": [
       "<matplotlib.figure.Figure at 0xe85e6e7278>"
      ]
     },
     "metadata": {},
     "output_type": "display_data"
    }
   ],
   "source": [
    "import matplotlib.pylab as plt\n",
    "\n",
    "def step_function(x):\n",
    "    return np.array(x>0, dtype=np.int)\n",
    "    \n",
    "x = np.arange(-5, 5, 0.1) #-5에서 5까지 0.1 간격의 배열 생성\n",
    "y = step_function(x)\n",
    "\n",
    "plt.plot(x,y) #(x,y) 점찍을듯.\n",
    "plt.ylim(-0.1,1.1) #y축 범위 지정\n",
    "plt.show()"
   ]
  },
  {
   "cell_type": "markdown",
   "metadata": {},
   "source": [
    "3.2.4 시그모이드 함수 구현\n",
    "\n",
    "Similarly 시그모이드 함수도 해보자."
   ]
  },
  {
   "cell_type": "code",
   "execution_count": 10,
   "metadata": {
    "collapsed": true
   },
   "outputs": [],
   "source": [
    "def sigmoid(x):\n",
    "    return 1/(1+np.exp(-x))"
   ]
  },
  {
   "cell_type": "markdown",
   "metadata": {},
   "source": [
    "x가 실수이든 배열이든 상관없이 값을 반환함."
   ]
  },
  {
   "cell_type": "code",
   "execution_count": 11,
   "metadata": {
    "collapsed": false
   },
   "outputs": [
    {
     "data": {
      "text/plain": [
       "0.2689414213699951"
      ]
     },
     "execution_count": 11,
     "metadata": {},
     "output_type": "execute_result"
    }
   ],
   "source": [
    "sigmoid(-1)"
   ]
  },
  {
   "cell_type": "code",
   "execution_count": 12,
   "metadata": {
    "collapsed": false
   },
   "outputs": [
    {
     "data": {
      "text/plain": [
       "array([ 0.26894142,  0.73105858,  0.88079708])"
      ]
     },
     "execution_count": 12,
     "metadata": {},
     "output_type": "execute_result"
    }
   ],
   "source": [
    "sigmoid(np.array([-1,1,2]))"
   ]
  },
  {
   "cell_type": "markdown",
   "metadata": {},
   "source": [
    "시그모이드 함수 그래프 그려보자"
   ]
  },
  {
   "cell_type": "code",
   "execution_count": 13,
   "metadata": {
    "collapsed": false
   },
   "outputs": [
    {
     "data": {
      "image/png": "[encoded data removed]",
      "text/plain": [
       "<matplotlib.figure.Figure at 0xe85edac240>"
      ]
     },
     "metadata": {},
     "output_type": "display_data"
    }
   ],
   "source": [
    "x = np.arange(-5, 5, 0.1)\n",
    "y = sigmoid(x)\n",
    "plt.plot(x,y)\n",
    "plt.ylim(-0.1, 1.1)\n",
    "plt.show()"
   ]
  },
  {
   "cell_type": "markdown",
   "metadata": {},
   "source": [
    "3.2.5 시그모이드 함수와 step function 비교\n",
    "\n",
    "시그모이드 -> 미분 가능\n",
    "\n",
    "step function -> 미분 불능\n",
    "\n",
    "3.2.6 비선형 함수\n",
    "\n",
    "시그모이드, step function 둘다 비선형 함수인데, 신경망에서 사용되는 활성함수는 주로 비선형 함수를 사용한다.\n",
    "\n",
    "활성함수로 선형함수를 사용하게 되면 층을 여러개하는 의미가 사라짐.\n",
    "(여러개로 해도 곧 하나의 선형함수로 표현이 가능함)\n",
    "\n",
    "3.2.7 ReLu 함수\n",
    "\n",
    "Rectified Linear Unit(렐루) 함수, 최근에 많이 사용됨.\n",
    "\n",
    "식 3.7 처럼 나타나고 그래프는 그림 3.9\n"
   ]
  },
  {
   "cell_type": "code",
   "execution_count": 14,
   "metadata": {
    "collapsed": true
   },
   "outputs": [],
   "source": [
    "#Re Lu 함수 구현\n",
    "def relu(x):\n",
    "    return np.maximum(0,x) #우리가 아는 그 max다."
   ]
  },
  {
   "cell_type": "code",
   "execution_count": 15,
   "metadata": {
    "collapsed": false
   },
   "outputs": [
    {
     "data": {
      "image/png": "[encoded data removed]",
      "text/plain": [
       "<matplotlib.figure.Figure at 0xe85f66d470>"
      ]
     },
     "metadata": {},
     "output_type": "display_data"
    }
   ],
   "source": [
    "#Re Lu 함수 그래프\n",
    "x = np.arange(-5, 5, 0.2)\n",
    "y = relu(x)\n",
    "plt.plot(x,y)\n",
    "plt.ylim(-1,5)\n",
    "plt.show()"
   ]
  },
  {
   "cell_type": "markdown",
   "metadata": {
    "collapsed": true
   },
   "source": [
    "3.3 다차원 배열의 계산\n",
    "\n",
    "np.array를 잘 이용하면 신경망을 효율적으로 구현 가능.\n",
    "\n",
    "3.3.1 다차원 배열\n",
    "\n",
    "1차원 배열(벡터) 2차원 배열(행렬) 3차원 배열(큐브를 생각) ... N차원 배열도 생각 가능"
   ]
  },
  {
   "cell_type": "code",
   "execution_count": 16,
   "metadata": {
    "collapsed": false
   },
   "outputs": [
    {
     "name": "stdout",
     "output_type": "stream",
     "text": [
      "[1 2 3 4]\n"
     ]
    }
   ],
   "source": [
    "import numpy as np\n",
    "A = np.array([1,2,3,4])\n",
    "print(A)"
   ]
  },
  {
   "cell_type": "code",
   "execution_count": 17,
   "metadata": {
    "collapsed": false
   },
   "outputs": [
    {
     "data": {
      "text/plain": [
       "1"
      ]
     },
     "execution_count": 17,
     "metadata": {},
     "output_type": "execute_result"
    }
   ],
   "source": [
    "np.ndim(A) # 배열 A의 차원 (여기서는 벡터의 차원이 아니라 배열이 몇개인지 묻는 것)"
   ]
  },
  {
   "cell_type": "code",
   "execution_count": 21,
   "metadata": {
    "collapsed": false
   },
   "outputs": [
    {
     "data": {
      "text/plain": [
       "(4,)"
      ]
     },
     "execution_count": 21,
     "metadata": {},
     "output_type": "execute_result"
    }
   ],
   "source": [
    "A.shape #배열 속 벡터의 차원을 말하는 듯."
   ]
  },
  {
   "cell_type": "code",
   "execution_count": 22,
   "metadata": {
    "collapsed": false
   },
   "outputs": [
    {
     "data": {
      "text/plain": [
       "4"
      ]
     },
     "execution_count": 22,
     "metadata": {},
     "output_type": "execute_result"
    }
   ],
   "source": [
    "A.shape[0]"
   ]
  },
  {
   "cell_type": "markdown",
   "metadata": {},
   "source": [
    "이제 2차원 배열을 생각해보자."
   ]
  },
  {
   "cell_type": "code",
   "execution_count": 18,
   "metadata": {
    "collapsed": false
   },
   "outputs": [
    {
     "name": "stdout",
     "output_type": "stream",
     "text": [
      "[[1 2]\n",
      " [3 4]\n",
      " [5 6]]\n"
     ]
    }
   ],
   "source": [
    "B = np.array([[1,2],[3,4],[5,6]]) #파이썬에서 행렬은 열부터 채워짐\n",
    "print(B)"
   ]
  },
  {
   "cell_type": "code",
   "execution_count": 19,
   "metadata": {
    "collapsed": false
   },
   "outputs": [
    {
     "data": {
      "text/plain": [
       "2"
      ]
     },
     "execution_count": 19,
     "metadata": {},
     "output_type": "execute_result"
    }
   ],
   "source": [
    "np.ndim(B) #B가 행의 요소 1개 열의 요소 1개 씩 해서 2개가 있으므로"
   ]
  },
  {
   "cell_type": "code",
   "execution_count": 20,
   "metadata": {
    "collapsed": false
   },
   "outputs": [
    {
     "data": {
      "text/plain": [
       "(3, 2)"
      ]
     },
     "execution_count": 20,
     "metadata": {},
     "output_type": "execute_result"
    }
   ],
   "source": [
    "B.shape #첫번째 []안에 몇개의 3개의 원소, 각 [] 안에 2개의 원소가 있으므로"
   ]
  },
  {
   "cell_type": "markdown",
   "metadata": {},
   "source": [
    "3.3.2 행렬의 내적\n",
    "\n",
    "그림 3-11: 2x2 행렬 곱 표현.\n",
    "\n"
   ]
  },
  {
   "cell_type": "code",
   "execution_count": 21,
   "metadata": {
    "collapsed": false
   },
   "outputs": [
    {
     "data": {
      "text/plain": [
       "array([[19, 22],\n",
       "       [43, 50]])"
      ]
     },
     "execution_count": 21,
     "metadata": {},
     "output_type": "execute_result"
    }
   ],
   "source": [
    "#행렬의 내적 구현\n",
    "A = np.array([[1,2],[3,4]])\n",
    "B = np.array([[5,6],[7,8]])\n",
    "np.dot(A,B) #두 행렬의 곱, 여기서는 행렬의 곱을 행렬의 내적이라고 표현한 듯"
   ]
  },
  {
   "cell_type": "markdown",
   "metadata": {},
   "source": [
    "행렬을 곱할 때 $\\mathbf{R}^{m \\times n} \\times \\mathbf{R}^{n \\times r} \\rightarrow \\mathbf{R}^{m \\times r}$ 의 원리를 생각해보면\n",
    "\n",
    "행렬을 곱할 때 사이즈에 주의해야 한다. 그렇지 않으면 오류가 남. (그림 3-12)\n",
    "\n",
    "3.3.3 신경망의 내적\n",
    "\n",
    "그림 3-14 의 신경망을 구현해보자.\n",
    "\n",
    "$\\mathbf{R}^{2}$의 데이터를 넣어서 $\\mathbf{R}^{3}$의 데이터가 나와야 하므로 가중치에 해당하는 행렬이 $\\mathbf{R}^{3 \\times 2}$이 되야함을 알 수있다"
   ]
  },
  {
   "cell_type": "code",
   "execution_count": 27,
   "metadata": {
    "collapsed": false
   },
   "outputs": [
    {
     "name": "stdout",
     "output_type": "stream",
     "text": [
      "[ 5 11 17]\n"
     ]
    }
   ],
   "source": [
    "X = np.array([1,2]) # (1,2)^T 형태의 데이터\n",
    "W = np.array([[1,2],[3,4],[5,6]])\n",
    "Y = np.dot(W,X)\n",
    "print(Y)"
   ]
  },
  {
   "cell_type": "markdown",
   "metadata": {},
   "source": [
    "3.4 3층 신경망 구현\n",
    "\n",
    "지금까지 입력층(0층) 히든(1층) 결과(2층) 해서 총 2층 신경망을 했다.\n",
    "\n",
    "이번엔 히든을 2개 넣어서 3층 신경망을 구현해보자 (그림 3-15)\n",
    "\n",
    "3.4.1 표기법 설명\n",
    "\n",
    "신경망의 계산을 행렬로 처리할려고 한다.\n",
    "\n",
    "${w}_{ij}^{(k)}$ $:~~$j번째 노드에서 i번째로 가는 k층에서의 가중치\n",
    "\n",
    "3.4.2 각 층의 신호 전달 구현\n",
    "\n",
    "그림 3-17 : 입력층에서 1층으로 감 ${w}_{1j}^{(1)}$ 에 해당함\n",
    "\n",
    "그림에 해당하는 식을 나타내면 [식 3.8] $~~{a}_{1}^{(1)} = {w}_{11}^{(1)}{x}_{1}+{w}_{12}^{(1)}{x}_{2}+{b}_{1}^{(1)}$\n",
    "\n",
    "이걸 행렬로 나타내면, ${A}^{(1)}=\\mathbf{W}^{(1)}\\mathbf{X}+\\mathbf{B}^{(1)}$ 으로 나타낼 수 있다\n",
    "\n",
    "where $\\mathbf{A}^{(1)}=\\begin{pmatrix} {a}_{1}^{(1)} \\\\ {a}_{2}^{(1)} \\\\ {a}_{3}^{(1)} \\end{pmatrix}\n",
    " ~~~ \\mathbf{X}=\\begin{pmatrix} {x}_{1} \\\\ {x}_{2}\\end{pmatrix}\n",
    " ~~~ \\mathbf{B}^{(1)}=\\begin{pmatrix} {b}_{1}^{(1)} \\\\ {b}_{2}^{(1)} \\\\ {b}_{3}^{(1)} \\end{pmatrix}\n",
    " ~~~ \\mathbf{W}^{(1)}=\\begin{pmatrix} {w}_{11}^{(1)} & {w}_{12}^{(1)} \\\\ {w}_{21}^{(1)} & {w}_{22}^{(1)} \\\\ {w}_{31}^{(1)} & {w}_{32}^{(1)} \\end{pmatrix}$\n",
    "\n",
    "(책이랑은 Notation이 좀 다름. 수학에서 익숙한 기호로 바꿈)\n",
    "\n",
    "이 상황을 구현해보자\n",
    "\n",
    "\n",
    " $\\mathbf{A}^{(1)}=\\begin{pmatrix} {a}_{1}^{(1)} \\\\ {a}_{2}^{(1)} \\\\ {a}_{3}^{(1)} \\end{pmatrix}$"
   ]
  },
  {
   "cell_type": "code",
   "execution_count": 28,
   "metadata": {
    "collapsed": false
   },
   "outputs": [
    {
     "name": "stdout",
     "output_type": "stream",
     "text": [
      "[ 0.3  0.7  1.1]\n"
     ]
    }
   ],
   "source": [
    "X = np.array([1.0, 0.5])\n",
    "W1 = np.array([[0.1, 0.2],[0.3, 0.4],[0.5, 0.6]])\n",
    "B1 = np.array([0.1, 0.2, 0.3])\n",
    "\n",
    "A1 = np.dot(W1,X)+B1\n",
    "print(A1)"
   ]
  },
  {
   "cell_type": "markdown",
   "metadata": {},
   "source": [
    "위의 코드 과정을 거쳐 그림 3-18 처럼 각 노드가 활성화 함수로 인해 활성화 될지 안될지가 결정이 된다.\n"
   ]
  },
  {
   "cell_type": "code",
   "execution_count": 29,
   "metadata": {
    "collapsed": false
   },
   "outputs": [
    {
     "name": "stdout",
     "output_type": "stream",
     "text": [
      "[ 0.57444252  0.66818777  0.75026011]\n"
     ]
    }
   ],
   "source": [
    "Z1 = sigmoid(A1)\n",
    "\n",
    "print(Z1)"
   ]
  },
  {
   "cell_type": "markdown",
   "metadata": {},
   "source": [
    "이제 1층에서 2층으로 가는 신경망을 구현해보자.\n",
    "\n",
    "그림 3-19를 식으로 나타내면,\n",
    "\n",
    "$\\mathbf{A}^{(2)}=\\mathbf{W}^{(2)}\\mathbf{Z}_{1}+\\mathbf{B}^{(2)}$"
   ]
  },
  {
   "cell_type": "code",
   "execution_count": 30,
   "metadata": {
    "collapsed": false
   },
   "outputs": [
    {
     "name": "stdout",
     "output_type": "stream",
     "text": [
      "A2는 [ 0.51615984  1.21402696]\n",
      "Z2는 [ 0.62624937  0.7710107 ]\n"
     ]
    }
   ],
   "source": [
    "W2 = np.array([[0.1, 0.2, 0.3],[0.4, 0.5, 0.6]])\n",
    "B2 = np.array([0.1, 0.2])\n",
    "\n",
    "A2 = np.dot(W2,Z1)+B2\n",
    "Z2 = sigmoid(A2)\n",
    "\n",
    "print('A2는 {}\\nZ2는 {}'.format(A2,Z2))"
   ]
  },
  {
   "cell_type": "markdown",
   "metadata": {},
   "source": [
    "이제 2층에서 3층으로 가는 신경망 구현\n",
    "그림 3-20을 식으로 나타내면,\n",
    "\n",
    "$\\mathbf{A}^{(3)}=\\mathbf{W}^{(3)}\\mathbf{Z}_{2}+\\mathbf{B}^{(3)}$\n",
    "\n",
    "단, 마지막 층이 이제 출력층이니까 활성화 함수를 identity를 사용하면,"
   ]
  },
  {
   "cell_type": "code",
   "execution_count": 31,
   "metadata": {
    "collapsed": false
   },
   "outputs": [
    {
     "name": "stdout",
     "output_type": "stream",
     "text": [
      "[ 0.31682708  0.69627909]\n"
     ]
    }
   ],
   "source": [
    "def identity_function(x):\n",
    "    return x\n",
    "\n",
    "W3 = np.array([[0.1, 0.2],[0.3, 0.4]])\n",
    "B3 = np.array([0.1, 0.2])\n",
    "\n",
    "A3 = np.dot(W3,Z2)+B3\n",
    "Y = identity_function(A3)\n",
    "\n",
    "print(Y)"
   ]
  },
  {
   "cell_type": "markdown",
   "metadata": {},
   "source": [
    "출력층의 활성화 함수는 풀고자 하는 문제에 맞게 설정하면 된다. \n",
    "\n",
    "어떤 문제에 어떤 활성화 함수를 쓸건지는 나중에 다시 설명.\n",
    "\n",
    "3.4.3 구현 정리\n",
    "\n",
    "앞선 3층의 신경망을 정리해보면"
   ]
  },
  {
   "cell_type": "code",
   "execution_count": 32,
   "metadata": {
    "collapsed": false
   },
   "outputs": [
    {
     "name": "stdout",
     "output_type": "stream",
     "text": [
      "[ 0.31682708  0.69627909]\n"
     ]
    }
   ],
   "source": [
    "def init_network():\n",
    "    network={}\n",
    "    network['W1']= np.array([[0.1, 0.2],[0.3, 0.4],[0.5, 0.6]])\n",
    "    network['W2']= np.array([[0.1, 0.2, 0.3],[0.4, 0.5, 0.6]])\n",
    "    network['W3']= np.array([[0.1, 0.2],[0.3, 0.4]]) \n",
    "    network['b1']= np.array([0.1, 0.2, 0.3])\n",
    "    network['b2']= np.array([0.1, 0.2]) \n",
    "    network['b3']= np.array([0.1, 0.2]) \n",
    "    \n",
    "    return network\n",
    "\n",
    "def forward(network, x):\n",
    "    W1, W2, W3 = network['W1'], network['W2'], network['W3']\n",
    "    b1, b2, b3 = network['b1'], network['b2'], network['b3']\n",
    "    \n",
    "    a1 = np.dot(W1,x)+b1\n",
    "    z1 = sigmoid(a1)\n",
    "    a2 = np.dot(W2,z1)+b2\n",
    "    z2 = sigmoid(a2)\n",
    "    a3 = np.dot(W3,z2)+b3\n",
    "    y = identity_function(a3)\n",
    "    \n",
    "    return y\n",
    "\n",
    "network = init_network()\n",
    "x = np.array([1.0, 0.5])\n",
    "y = forward(network, x)\n",
    "\n",
    "print(y)"
   ]
  },
  {
   "cell_type": "markdown",
   "metadata": {},
   "source": [
    "위의 코드에서 가중치만 적절히 조절하면, 아주 간단한 3층 신경망 모델이 완성되었다.\n",
    "\n",
    "신경망 모델의 이름을 forward (앞으로)으로 한것은 \n",
    "\n",
    "신경망의 진행방향이 입력층(왼쪽)을 기준으로 출력층(오른쪽)으로 가는 방향을 forward로 하기 위해서이다.\n",
    "\n",
    "뒤에 backpropagation(?)을 염두에 두고 한 말 같음.\n",
    "\n",
    "3.5 출력층 설계하기\n",
    "\n",
    "신경망은 회귀, 분류 둘 다 사용 가능한데,\n",
    "\n",
    "각각 출력층에서 활성함수를 다른걸로 사용한다.\n",
    "\n",
    "회귀는 주로 항등함수를 사용하고 분류는 softmax 함수를 사용함.\n",
    "\n",
    "3.5.1 항등함수와 softmax 함수 구현\n",
    "\n",
    "항등 함수는 $\\mathbf{I(x)=x}$ 이고,\n",
    "\n",
    "softmax 함수는 식 3.10 $\\mathbf{y}_{k} = \\frac{exp(\\mathbf{a}_{k})}{\\sum exp(\\mathbf{a}_{i})}$ 으로 나타난다.\n",
    "\n",
    "그림 3-22 softmax 함수 설명\n"
   ]
  },
  {
   "cell_type": "code",
   "execution_count": 29,
   "metadata": {
    "collapsed": false
   },
   "outputs": [
    {
     "name": "stdout",
     "output_type": "stream",
     "text": [
      "[ 0.01821127  0.24519181  0.73659691]\n"
     ]
    }
   ],
   "source": [
    "#softmax 함수 구현\n",
    "\n",
    "def softmax(a):\n",
    "    exp_a = np.exp(a)\n",
    "    sum_exp_a = np.sum(exp_a) #벡터 원소의 합\n",
    "    y = exp_a / sum_exp_a #원소 별로 스칼라가 들어감.\n",
    "    return y\n",
    "\n",
    "a = np.array([0.3, 2.9, 4])\n",
    "\n",
    "print(softmax(a))"
   ]
  },
  {
   "cell_type": "markdown",
   "metadata": {},
   "source": [
    "3.5.2 소프트맥스 함수 구현 시 주의점\n",
    "\n",
    "exp함수는 지수함수라 monotone이 아니라 엄청 크게 증가한다. 그래서 컴퓨터가 연산할 수 있는 범위를 초과할 수도 있다.overflow(오버플로)라고 함.\n",
    "\n",
    "그래서 원래의 값에는 영향을 주진 않지만, 계산의 안정성을 위하여 식을 약간 변형 한다. 간단한 수학이 쓰인다 식[3.11]\n",
    "\n",
    "식 3.11에 해당하는 내용을 구현해보자.\n",
    "\n",
    "\n",
    "\n",
    "\n",
    "\n"
   ]
  },
  {
   "cell_type": "code",
   "execution_count": 33,
   "metadata": {
    "collapsed": false
   },
   "outputs": [
    {
     "ename": "NameError",
     "evalue": "name 'softmax' is not defined",
     "output_type": "error",
     "traceback": [
      "\u001b[0;31m---------------------------------------------------------------------------\u001b[0m",
      "\u001b[0;31mNameError\u001b[0m                                 Traceback (most recent call last)",
      "\u001b[0;32m<ipython-input-33-c06c66c3b8bf>\u001b[0m in \u001b[0;36m<module>\u001b[0;34m()\u001b[0m\n\u001b[1;32m      1\u001b[0m \u001b[0ma\u001b[0m \u001b[1;33m=\u001b[0m \u001b[0mnp\u001b[0m\u001b[1;33m.\u001b[0m\u001b[0marray\u001b[0m\u001b[1;33m(\u001b[0m\u001b[1;33m[\u001b[0m\u001b[1;36m1010\u001b[0m\u001b[1;33m,\u001b[0m \u001b[1;36m1000\u001b[0m\u001b[1;33m,\u001b[0m \u001b[1;36m999\u001b[0m\u001b[1;33m]\u001b[0m\u001b[1;33m)\u001b[0m\u001b[1;33m\u001b[0m\u001b[0m\n\u001b[0;32m----> 2\u001b[0;31m \u001b[0mprint\u001b[0m\u001b[1;33m(\u001b[0m\u001b[0msoftmax\u001b[0m\u001b[1;33m(\u001b[0m\u001b[0ma\u001b[0m\u001b[1;33m)\u001b[0m\u001b[1;33m)\u001b[0m \u001b[1;31m#아마 계산 에러가 나올거다\u001b[0m\u001b[1;33m\u001b[0m\u001b[0m\n\u001b[0m",
      "\u001b[0;31mNameError\u001b[0m: name 'softmax' is not defined"
     ]
    }
   ],
   "source": [
    "a = np.array([1010, 1000, 999])\n",
    "print(softmax(a)) #아마 계산 에러가 나올거다"
   ]
  },
  {
   "cell_type": "code",
   "execution_count": 31,
   "metadata": {
    "collapsed": false
   },
   "outputs": [
    {
     "name": "stdout",
     "output_type": "stream",
     "text": [
      "[  9.99937902e-01   4.53971105e-05   1.67006637e-05]\n"
     ]
    }
   ],
   "source": [
    "c = np.max(a)\n",
    "print(softmax(a-c)) #여기서는 c값을 빼줌. 값은 달라도 비율은 같을 것이다."
   ]
  },
  {
   "cell_type": "markdown",
   "metadata": {},
   "source": [
    "softmax의 값이 얼마인지도 중요하지만 분류문제에서는 softmax의 값이 큰 값으로 분류를 하면 되므로 크기비교만 있으면 된다.\n",
    "\n",
    "이걸 감안해서 softmax함수를 조금 보정 해보자\n"
   ]
  },
  {
   "cell_type": "code",
   "execution_count": 2,
   "metadata": {
    "collapsed": true
   },
   "outputs": [],
   "source": [
    "#overflow 수정된 softmax 함수\n",
    "def softmax(a):\n",
    "    c = np.max(a)\n",
    "    exp_a = np.exp(a-c)\n",
    "    sum_exp_a = np.sum(exp_a) #벡터 원소의 합\n",
    "    y = exp_a / sum_exp_a #원소 별로 스칼라가 들어감.\n",
    "    return y\n"
   ]
  },
  {
   "cell_type": "markdown",
   "metadata": {},
   "source": [
    "3.5.3 소프트맥스 함수의 특징\n",
    "\n",
    "출력값의 성분이 모두 0에서 1사이의 값이다.\n",
    "\n",
    "그리고 출력값의 성분을 모두 더하면 1이다.\n",
    "\n",
    "이는 확률의 성질과 비슷하다. 그렇다. 소프트맥스 함수는 확률함수로 볼 수도있다.\n",
    "\n",
    "그래서 분류문제에서 이를 응용할 수 있다.\n",
    "\n",
    "예를 들어 출력값이 y=(0.2, 0.3, 0.5) 로 나왔다면 입력데이터의 클래스가 1일 확률이 20%, 2일 확률이 30%, 3일 확률이 50%라고 해석할 수 있다.\n",
    "\n",
    "그런데 소프트맥스 함수는 monotone increasing 함수이므로, 정의역의 값이 크면 함수값도 크다.\n",
    "\n",
    "그래서 굳이 마지막 출력층에서의 소프트맥스 함수 계산과정은 사실상 생략이 가능하다.\n",
    "\n",
    "하지만 나중에 모델을 학습시키는 과정에서는 출력과정에서 소프트맥스 함수 계산과정이 필요함. (4장에서 다시 언급)\n",
    "\n",
    "3.5.4 출력층의 뉴런 수 정하기\n",
    "\n",
    "분류 문제의 경우에는 클래스의 갯수 = 출력층의 노드 수 [그림 3-22]\n",
    "\n",
    "3.6 손글씨 숫자 인식\n",
    "\n",
    "학습단계는 다시 하고 이미 계산된 최적의 모수를 가지고 추론만 해보자. \n",
    "\n",
    "이런 과정을 순전파 (forward propagation)이라고 한다.\n",
    "\n",
    "3.6.1 MNIST 데이터 셋\n",
    "\n",
    "MNIST(Mixed National Institute of Standards and Technology database)는 손글씨로 쓰여진 숫자 데이터 셋(트레이닝 셋 6만장, 테스트셋 10만장)을 의미한다.\n",
    "\n",
    "\n",
    "\n"
   ]
  },
  {
   "cell_type": "code",
   "execution_count": 1,
   "metadata": {
    "collapsed": false,
    "scrolled": false
   },
   "outputs": [
    {
     "name": "stdout",
     "output_type": "stream",
     "text": [
      "Converting train-images-idx3-ubyte.gz to NumPy Array ...\n",
      "Done\n",
      "Converting train-labels-idx1-ubyte.gz to NumPy Array ...\n",
      "Done\n",
      "Converting t10k-images-idx3-ubyte.gz to NumPy Array ...\n",
      "Done\n",
      "Converting t10k-labels-idx1-ubyte.gz to NumPy Array ...\n",
      "Done\n",
      "Creating pickle file ...\n",
      "Done!\n",
      "(60000, 784)\n",
      "(60000,)\n",
      "(10000, 784)\n",
      "(10000,)\n"
     ]
    }
   ],
   "source": [
    "import sys, os\n",
    "sys.path.append(os.pardir)\n",
    "from dataset.mnist import load_mnist #data.mnist라는 코드 파일 안에 load_mnist라는 함수코드를 불러오라는 뜻\n",
    "\n",
    "(x_train, t_train), (x_test, t_test) = load_mnist(flatten=True, normalize=False)\n",
    "\n",
    "#각 데이터의 형상 출력\n",
    "print(x_train.shape) # (60000, 784)\n",
    "print(t_train.shape) # (60000,)\n",
    "print(x_test.shape) # (10000, 784)\n",
    "print(t_test.shape) # (10000, )\n",
    "#위의 이녀석들의 의미는...??"
   ]
  },
  {
   "cell_type": "markdown",
   "metadata": {},
   "source": [
    "load_mnist 함수 특징 설명\n",
    "\n",
    "인수: normalize, flatten, one_hot_label 3가지가 있다. 모두 인자를 bool값(True or False)으로 입력받는다.\n",
    "\n",
    "normalize : 입력 이미지의 픽셀 값을 0.0~1.0사이의 값으로 정규화 (False 시 0~255로 나옴)\n",
    "\n",
    "flattern : 이미지를 1차원 배열로 만듬 (False 시 $1 \\times 28 \\times 28$의 3차원 배열로 나옴)\n",
    "\n",
    "one_hot_label : 다시.... 원 핫 인코딩??\n",
    "\n",
    "그러면 MNIST 이미지를 화면으로 불러보자."
   ]
  },
  {
   "cell_type": "markdown",
   "metadata": {},
   "source": [
    "그림1![title](/notebooks/da.png)"
   ]
  },
  {
   "cell_type": "code",
   "execution_count": 2,
   "metadata": {
    "collapsed": false
   },
   "outputs": [
    {
     "name": "stdout",
     "output_type": "stream",
     "text": [
      "5\n",
      "(784,)\n",
      "(28, 28)\n"
     ]
    }
   ],
   "source": [
    "import sys, os\n",
    "sys.path.append(os.pardir)  # 부모 디렉터리의 파일을 가져올 수 있도록 설정\n",
    "import numpy as np\n",
    "from dataset.mnist import load_mnist\n",
    "from PIL import Image #이미지를 불러올때 사용되는 모듈\n",
    "\n",
    "\n",
    "def img_show(img):\n",
    "    pil_img = Image.fromarray(np.uint8(img))\n",
    "    pil_img.show()\n",
    "\n",
    "(x_train, t_train), (x_test, t_test) = load_mnist(flatten=True, normalize=False)\n",
    "\n",
    "img = x_train[0] #x_train이란 배열에 첫번째 있는 이미지인듯\n",
    "label = t_train[0] #그 이미지의 이름??\n",
    "print(label)  # 5\n",
    "\n",
    "print(img.shape)  # (784,) 784개의 원소로 이루어진 1차원 배열\n",
    "img = img.reshape(28, 28)  # 형상을 원래 이미지의 크기로 변형 -> 1x28x28은 파이썬이 읽지 못하더라. 28x28은 읽는 듯.\n",
    "print(img.shape)  # (28, 28)\n",
    "\n",
    "img_show(img)\n"
   ]
  },
  {
   "cell_type": "markdown",
   "metadata": {},
   "source": [
    "살펴 보아야 할 것이, img를 불러 들일 때 784개의 원소로 이루어진 배열로 불러오지만,\n",
    "\n",
    "이미지를 불러올 때는 $28 \\times 28$로 불러와야 하기 때문에 image.reshape를 해준다.\n",
    "\n",
    "그리고 지금 이미지를 PIL이란 모듈로 불러오기 때문에, numpy로 저장된 데이터를 PIL용으로 변환 해주어야 하며 그 변환을 Image.fromarray가 한다.\n",
    "\n",
    "3.6.2 신경망의 추론 처리\n",
    "\n",
    "이제 이 MNIST 데이터를 신경망으로 부터 추론을 해보자.\n",
    "\n",
    "각 $28 \\times 28$의 이미지 데이터를 784개의 원소로 이루어진 1개의 배열로 입력데이터로 받아서\n",
    "\n",
    "0~10 까지 숫자를 판별하는 10개의 출력층을 가진 신경망을 구성할 것이다.\n",
    "\n",
    "그리고 은닉층은 2개로 첫번째는 50개, 두번째는 100개로 뉴런을 배치. (이때 50, 100은 임의로 정함)"
   ]
  },
  {
   "cell_type": "code",
   "execution_count": 5,
   "metadata": {
    "collapsed": false,
    "scrolled": false
   },
   "outputs": [
    {
     "name": "stdout",
     "output_type": "stream",
     "text": [
      "Accuracy:0.9352\n"
     ]
    }
   ],
   "source": [
    "# Neural Network 구현\n",
    "\n",
    "import sys, os\n",
    "sys.path.append(os.pardir)  # 부모 디렉터리의 파일을 가져올 수 있도록 설정\n",
    "import numpy as np\n",
    "import pickle\n",
    "from dataset.mnist import load_mnist\n",
    "from common.functions import sigmoid, softmax\n",
    "\n",
    "\n",
    "def get_data():\n",
    "    (x_train, t_train), (x_test, t_test) = load_mnist(normalize=True, flatten=True, one_hot_label=False)\n",
    "    return x_test, t_test\n",
    "\n",
    "\n",
    "def init_network():\n",
    "    with open(\"ch03/sample_weight.pkl\", 'rb') as f:\n",
    "        network = pickle.load(f)\n",
    "    return network\n",
    "\n",
    "    \n",
    "\n",
    "def predict(network, x):\n",
    "    W1, W2, W3 = network['W1'], network['W2'], network['W3']\n",
    "    b1, b2, b3 = network['b1'], network['b2'], network['b3']\n",
    "\n",
    "    a1 = np.dot(x, W1) + b1\n",
    "    z1 = sigmoid(a1)\n",
    "    a2 = np.dot(z1, W2) + b2\n",
    "    z2 = sigmoid(a2)\n",
    "    a3 = np.dot(z2, W3) + b3\n",
    "    y = softmax(a3)\n",
    "\n",
    "    return y\n",
    "\n",
    "\n",
    "x, t = get_data()\n",
    "\n",
    "network = init_network()\n",
    "accuracy_cnt = 0\n",
    "for i in range(len(x)):\n",
    "    y = predict(network, x[i])\n",
    "    p= np.argmax(y) # 확률이 가장 높은 원소의 인덱스를 얻는다.\n",
    "    if p == t[i]:\n",
    "        accuracy_cnt += 1\n",
    "\n",
    "print(\"Accuracy:\" + str(float(accuracy_cnt) / len(x)))\n"
   ]
  },
  {
   "cell_type": "markdown",
   "metadata": {},
   "source": [
    "코드를 살펴보자.\n",
    "\n",
    "우선 get_data로 부터 데이터를 우리가 원하는 방식으로 셋팅한다(784개의 원소로 이루어진 1차원 배열, 각 원소가 0~1사이 값)\n",
    "\n",
    "그리고 predict 함수로 분류를 한다. 이 때 분류 원리는 출력값이 배열로 나오는데 배열 중 가장 숫자가 큰 즉, 가장 확률이 큰 값으로 분류를 함.\n",
    "\n",
    "그 배열중 가장 큰 값을 뽑아내는 함수가 np.argmax()이다.\n",
    "\n",
    "그리고 총 데이터의 갯수중 정답이 맞은 횟수를 통해 accuracy를 출력한다.\n",
    "\n",
    "93.52%의 정확도가 나오는데 뒤에 학습을 시켜서 99%까지 향상시킬 것이다.\n",
    "\n",
    "앞서 데이터 배열의 각 원소 값이 0~1사이의 값으로 정규화 시켰는데(원래 0~255값에서) 이렇게 원래 데이터를 특정 변환시키는 과정을 전처리라고 한다.\n",
    "\n",
    "3.6.3 배치 처리\n",
    "\n",
    "앞서 $A = WX + B $ 에서의 각 행렬의 사이즈를 생각해보자.\n",
    "\n",
    "입력 데이터가 784개의 성분을 가진 데이터이니까\n",
    "\n"
   ]
  },
  {
   "cell_type": "code",
   "execution_count": 23,
   "metadata": {
    "collapsed": false
   },
   "outputs": [
    {
     "name": "stdout",
     "output_type": "stream",
     "text": [
      "x.shape 는 (10000, 784)\n",
      "x[0].shape 는 (784,)\n",
      "W1.shape 는 (784, 50)\n",
      "W2.shape 는 (50, 100)\n",
      "W3.shape는 (100, 10)\n"
     ]
    }
   ],
   "source": [
    "x, _ = get_data()\n",
    "network = init_network()\n",
    "\n",
    "W1,W2,W3 = network['W1'], network['W2'], network['W3']\n",
    "\n",
    "print(\"x.shape 는 {}\\nx[0].shape 는 {}\\nW1.shape 는 {}\\nW2.shape 는 {}\\nW3.shape는 {}\". format(x.shape, x[0].shape, W1.shape, W2.shape, W3.shape))"
   ]
  },
  {
   "cell_type": "markdown",
   "metadata": {
    "collapsed": false
   },
   "source": [
    "그림 3-26 처럼 행렬 곱이 well-defined 된다.\n",
    "\n",
    "그러면 같은 원리로 X를 $ 784 \\times 1 $ 행렬이 아니라\n",
    "\n",
    "$ 784 \\times 100 $ 행렬을 입력해도 괜찮지 않을까?  (1열이 첫번째 데이터 .... 100열은 100번째 데이터 생각)\n",
    "\n",
    "그러면 이론적으로는 그림 3-27이 된다 (책에서의 행렬표시에 모두 transpose를 취하면 수학적 표현과 맞다)\n",
    "\n",
    "이처럼 입력데이터를 몇개의 단위로 묶는 것을 배치라고 한다.\n",
    "\n",
    "사실 컴퓨터는 하나를 계산하는것 보다 배치로 계산하는게 더 빠르게 설계되어있다고 한다.\n",
    "\n",
    "배치를 고려해서 다시 구현해보자"
   ]
  },
  {
   "cell_type": "code",
   "execution_count": 24,
   "metadata": {
    "collapsed": false
   },
   "outputs": [
    {
     "name": "stdout",
     "output_type": "stream",
     "text": [
      "Accuracy:0.9352\n"
     ]
    }
   ],
   "source": [
    "x, t = get_data()\n",
    "network = init_network()\n",
    "\n",
    "batch_size = 100 # 배치의 크기는 100\n",
    "accuracy_cnt = 0\n",
    "\n",
    "for i in range(0, len(x), batch_size): #0에서 len(x) 까지 batch_size만큼 끊어라\n",
    "    x_batch = x[i:i+batch_size] # 784 x 100 행렬\n",
    "    y_batch = predict(network, x_batch) #결과는 10 x 100 행렬이 나온다 여기선 100 x 10 행렬\n",
    "    p = np.argmax(y_batch, axis=1) # 첫번째 행 중에 가장 큰 숫자\n",
    "    accuracy_cnt += np.sum(p == t[i:i+batch_size])\n",
    "    \n",
    "print(\"Accuracy:\" + str(float(accuracy_cnt) / len(x)))\n",
    "    \n",
    "    "
   ]
  },
  {
   "cell_type": "markdown",
   "metadata": {},
   "source": [
    "여기서 잠깐 반복문에 range를 살펴보고 가자. \n",
    "\n",
    "위에서 설명했듯이 range(start, end, step)으로 이루어져있다. "
   ]
  },
  {
   "cell_type": "code",
   "execution_count": 28,
   "metadata": {
    "collapsed": false
   },
   "outputs": [
    {
     "data": {
      "text/plain": [
       "[0, 1, 2, 3, 4, 5, 6, 7, 8, 9]"
      ]
     },
     "execution_count": 28,
     "metadata": {},
     "output_type": "execute_result"
    }
   ],
   "source": [
    "list(range(0, 10))"
   ]
  },
  {
   "cell_type": "code",
   "execution_count": 29,
   "metadata": {
    "collapsed": false
   },
   "outputs": [
    {
     "data": {
      "text/plain": [
       "[0, 3, 6, 9]"
      ]
     },
     "execution_count": 29,
     "metadata": {},
     "output_type": "execute_result"
    }
   ],
   "source": [
    "list(range(0,10,3))"
   ]
  },
  {
   "cell_type": "markdown",
   "metadata": {},
   "source": [
    "그리고 배열에서의 argmax는 어떻게 되는지 생각해보면, axis=1이라는 것은 $100 \\times 10$을 구성하는 첫번째 차원에서 가장 큰 index를 출력한다"
   ]
  },
  {
   "cell_type": "code",
   "execution_count": 30,
   "metadata": {
    "collapsed": false
   },
   "outputs": [
    {
     "name": "stdout",
     "output_type": "stream",
     "text": [
      "[1 2 1 0]\n"
     ]
    }
   ],
   "source": [
    "x = np.array([[0.1, 0.8, 0.1],[0.3, 0.1, 0.6],[0.2, 0.5, 0.3],[0.8, 0.1, 0.1]]) # 4x3 행렬\n",
    "y = np.argmax(x, axis=1) #1행 중가장 큰 수를 나타내는 index!\n",
    "\n",
    "print(y)"
   ]
  },
  {
   "cell_type": "markdown",
   "metadata": {},
   "source": [
    "실제 답과 비교하기 위해서 "
   ]
  },
  {
   "cell_type": "code",
   "execution_count": 31,
   "metadata": {
    "collapsed": false
   },
   "outputs": [
    {
     "name": "stdout",
     "output_type": "stream",
     "text": [
      "[ True  True False  True]\n"
     ]
    }
   ],
   "source": [
    "t = np.array([1,2,0,0])\n",
    "print(y==t)"
   ]
  },
  {
   "cell_type": "code",
   "execution_count": 32,
   "metadata": {
    "collapsed": false
   },
   "outputs": [
    {
     "data": {
      "text/plain": [
       "3"
      ]
     },
     "execution_count": 32,
     "metadata": {},
     "output_type": "execute_result"
    }
   ],
   "source": [
    "np.sum(y==t)"
   ]
  },
  {
   "cell_type": "markdown",
   "metadata": {},
   "source": [
    "총 3개 맞았다.\n",
    "\n",
    "3.7 정리\n",
    "\n",
    "입력층을 출발로 출력층으로 가는 알고리즘의 순서는 퍼셉트론과 같다.\n",
    "\n",
    "하지만 퍼셉트론은 활성화 함수를 step function으로 사용한 반면에,\n",
    "\n",
    "신경망은 활성화 함수를 부드러운 시그모이드 함수를 사용했다.\n",
    "\n",
    "왜 이렇게 나뉘는지 다음장에서 살펴보자."
   ]
  },
  {
   "cell_type": "markdown",
   "metadata": {
    "collapsed": true
   },
   "source": [
    "3장 총 정리\n",
    "\n",
    "신경망에서는 활성화 함수로 시그모이드 함수와 ReLu 함수를 주로 이용.\n",
    "\n",
    "Numpy의 배열을 잘 이용하면 좀 더 효율적으로 신경망 구현 가능.\n",
    "\n",
    "기계학습은 크게 regression(회귀)와 classification(분류)로 나눌 수 있음.\n",
    "\n",
    "출력층의 활성화 함수로 회귀에서는 주로 항등함수, 분류에서는 주로 소프트맥스 함수 사용.\n",
    "\n",
    "분류에서는 출력층의 뉴런(노드)의 수를 클래스의 수와 같게 설정.\n",
    "\n",
    "입력데이터를 묶은 것을 배치라고 하며, 배치단위로 데이터를 처리하면 좀 더 효율적임.\n"
   ]
  },
  {
   "cell_type": "code",
   "execution_count": null,
   "metadata": {
    "collapsed": true
   },
   "outputs": [],
   "source": []
  }
 ],
 "metadata": {
  "anaconda-cloud": {},
  "kernelspec": {
   "display_name": "Python [conda root]",
   "language": "python",
   "name": "conda-root-py"
  },
  "language_info": {
   "codemirror_mode": {
    "name": "ipython",
    "version": 3
   },
   "file_extension": ".py",
   "mimetype": "text/x-python",
   "name": "python",
   "nbconvert_exporter": "python",
   "pygments_lexer": "ipython3",
   "version": "3.5.2"
  }
 },
 "nbformat": 4,
 "nbformat_minor": 1
}
