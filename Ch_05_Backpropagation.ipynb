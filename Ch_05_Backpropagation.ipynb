{
 "cells": [
  {
   "cell_type": "markdown",
   "metadata": {},
   "source": [
    "# Ch_05_오차역전파법"
   ]
  },
  {
   "cell_type": "markdown",
   "metadata": {},
   "source": [
    "4장에서 신경망 학습에 대해서 공부했고, 신경망의 학습과정이 하나의 최적화 문제로 해결이 됨을 공부했다.\n",
    "\n",
    "하지만 그 속에 수치 미분이라는 계산이 들어가는데, 이 계산이 숫자가 커지거나 할 경우에는 시간이 오래걸린다는 단점이 있다.\n",
    "\n",
    "그래서 5장에서는 좀 더 효율적인 방법인 BackPropagation, 오차역전파 방법을 배워보자.\n",
    "\n",
    "이번 장에서는 수식보다는 그림으로 설명하려고 한다.\n",
    "\n",
    "5.1 계산 그래프\n",
    "\n",
    "계산과정을 그래프로 나타내는 것을 계산 그래프라고 하는데, 오차역전파법을 설명하는데 핵심 개념이므로 살펴보고 가자.\n",
    "\n",
    "5.1.1 계산 그래프로 풀다\n",
    "\n",
    "다음의 문제를 암산이 아닌 계산 그래프로 풀어보자.\n",
    "\n",
    "문제1. 현빈 군이 슈퍼에서 1개에 100원인 사과를 2개 샀다. 이 때 지불 금액을 구하라. 단 소비세가 10% 부과된다.\n",
    "\n",
    "문제의 순서대로 그래프를 그려보자.\n",
    "\n",
    "[그림5-1] 문제 1의 계산 그래프\n",
    "![](data/images/fig%205-1.png)\n",
    "x2와 x1.1의 노드를 따로 표시 하였는데 노드 속의 연산을 x로만 한정하면 다음과 같이 표현할 수 있다.\n",
    "\n",
    "[그림5-2]\n",
    "![](data/images/fig%205-2.png)\n",
    "\n",
    "하나 더 해보자\n",
    "\n",
    "문제2. 현빈 군이 슈퍼에서 사과2개 귤 3개를 샀다. 사과는 1개에 100원, 귤은 1개에 150원이다. 소비세는 10%이다. 지불금액은?\n",
    "\n",
    "[그림5-3] 문제2의 계산그래프\n",
    "![](data/images/fig%205-3.png)\n",
    "\n",
    "두 문제의 계산그래프를 통해 계산 그래프의 문제풀이 방법을 살펴보면,\n",
    "\n",
    "1.계산 그래프 구성.\n",
    "\n",
    "2.그래프를 왼쪽에서 오른쪽으로 진행\n",
    "\n",
    "2에서와 같이 왼쪽에서 오른쪽으로 진행해 나아가는 것을 '순전파'(Forward Propagation)라고 한다. \n",
    "\n",
    "그렇다면 반대의 개념도 생각할 수 있다. 바로 '역전파'(Back Propagation)이다.\n",
    "\n",
    "5.1.2 국소적 계산\n",
    "\n",
    "국소적(locally)란 말은 자기 자신과 관계된 작은 범위를 의미힌다. 계산 그래프는 각 노드별로 국소적 계산을 통해 전체 결과를 출력한다.\n",
    "\n",
    "예를 들어보자.\n",
    "\n",
    "[그림5-4] 사과2개를 포함한 다른 물건을 사는 경우의 계산 그래프\n",
    "![](data/images/fig%205-4.png)\n",
    "\n",
    "위 그림에서 보듯이 다른 물건을 얼마나 복잡하게 사던지 그 값에 사과의 값을 더하는 계산이 사과의 입장에서는 중요하다. 사과의 입장에선 그 계산만이 국소적 계산이 되는 것이다. 이처럼 계산 그래프는 국소적 계산의 연합이라고 보면 된다. 간단한 국소적 계산들을 통해 전체 결과를 출력한다.\n",
    "\n",
    "5.1.3 왜 계산 그래프인가?\n",
    "\n",
    "계산그래프의 이점으로는 다음과 같다.\n",
    "\n",
    "1. 아무리 복잡해도 각 노드에서는 단순한 국소적 계산에만 집중한다.\n",
    "2. 계산그래프는 중간 계산결과를 모두 보관한다.\n",
    "3. 역전파를 이용해 미분을 이용할 수 있다!!!\n",
    "\n",
    "3번을 설명하기 위해 문제1로 돌아가보자. 만약 사과의 가격이 조금 변할 때 현빈이 지불해야할 금액은 얼마나 변하는지가 궁금하다면,\n",
    "\n",
    "사과의 값을 $x$, 현빈이 지불할 금액을 $L$이라 하면 그 변화율은 $\\frac{\\partial{L}}{\\partial {x}}$의 값이 된다\n",
    "\n",
    "[그림5-5] 역전파에 의한 미분 값의 전달 ( 원리는 뒤에서 설명 )\n",
    "![](data/images/fig%205-5.png)\n",
    "위 그림에 의해 사과가 1원 오르면 총 지불금액은 2.2원이 오를거라고 생각할 수 있다.\n",
    "\n",
    "이 방법을 이용하면, 사과가격에 따른 지불금액의 변화량 말고 소비세에 대한 지불금액의 미분이나, 사과의 갯수에 따른 지불금액의 미분도 계산할 수 있다.\n",
    "\n",
    "중요한 점은 이 방법을 이용하면 4장에서 했던 수치미분보다 계산이 훨씬 간단하다는 점이다.\n",
    "\n",
    "5.2 연쇄법칙(Chain Rule)\n",
    "\n",
    "Chain Rule하면 가장 먼저 떠오르는 수식 $\\frac{df(x)}{dt}=\\frac{\\partial{f(x)}}{\\partial{x}}\\frac{dx}{dt}$ 다시 한번 마음에 새기고 가자.\n",
    "\n",
    "5.2.1 계산 그래프의 역전파\n",
    "\n",
    "$y=f(x)$의 계산 그래프와 역전파를 그려보자.\n",
    "\n",
    "[그림5-6] 계산 그래프의 역전파\n",
    "![](data/images/fig%205-6.png)\n",
    "\n",
    "간단히 설명하면, E라는 신호는 그 신호가 지나가는 노드의 국소적 미분을 곱한후 다음 노드로 전달하는 것이다.\n",
    "\n",
    "연쇄법칙과 관련해서 보자.\n",
    "\n",
    "5.2.2 연쇄법칙이란?\n",
    "\n",
    "연쇄법칙이란 합성함수의 미분법을 설명하기 위한 법칙이다. 먼저 합성함수란 두개의 함수를 합성한 것을 합성함수라 한다. \n",
    "\n",
    "예를 들면,\n",
    "\n",
    "$z=t^2$, $t= x+y$ 의 두 함수에 대해서 이럴 때에 $\\frac{\\partial{z}}{\\partial{x}}$의 값을 어떻게 구할것인가 생각해보자.\n",
    "\n",
    "함성함수의 미분에 관한 정의는 다음과 같다 : 합성함수의 미분은 합성 함수를 구성하는 각 함수의 미분의 곱으로 나타낼 수 있다.\n",
    "\n",
    "[식5-4]합성함수의 정의를 이용하여 미분값 계산\n",
    "![](data/images/e%205.4.png)\n",
    "\n",
    "5.2.3 연쇄법칙과 계산 그래프\n",
    "\n",
    "식 5-4를 계산그래프로 나타내면 다음과 같다.\n",
    "\n",
    "[그림5-7] 식5-4의 계산 그래프\n",
    "![](data/images/fig%205-7.png)\n",
    "이 그림을 다시 그려보면,\n",
    "\n",
    "[그림5-8] 계산 그래프의 역전파 결과\n",
    "![](data/images/fig%205-8.png)\n",
    "\n",
    "5.3 역전파\n",
    "\n",
    "5.2에서는 함수에 대해 역전파가 어떻게 작동하는지 설명하였다. 이번에는 $+$,$\\times$에 대해서 역전파가 어떻게 작동하는지 살펴보자.\n",
    "\n",
    "5.3.1 덧셈 노드의 역전파\n",
    "\n",
    "$z=x+y$라는 식을 생각해보자.\n",
    "\n",
    "이때, $\\frac{\\partial{z}}{\\partial{x}} = 1$ , $\\frac{\\partial{z}}{\\partial{y}} = 1$ 이 됨을 쉽게 알 수 있다. 이를 계산그래프로 나타내면,\n",
    "\n",
    "[그림5-9] 덧셈 노드의 역전파\n",
    "![](data/images/fig%205-9.png)\n",
    "이 때 $\\frac{\\partial{L}}{\\partial{z}}$ 상류에서 전해진 미분 값이라고 생각하면 되겠다. 왜냐하면 실제로 우리는 다음과 같은 좀 더 큰 계산 그래프를 다루기 때문이다.\n",
    "![](data/images/fig%205-10.png)\n",
    "\n",
    "구체적인 예로 10+5=15라는 계산이 있고 이 그래프의 상류에서 1.3이라는 미분값이 전해내려고 있다고 하자. 이 경우를 그래프를 그리면,\n",
    "![](data/images/fig%205-11.png)\n",
    "\n",
    "5.3.2 곱셈 노드의 역전파\n",
    "\n",
    "이번엔 $z=xy$라는 식을 생각해보자.\n",
    "\n",
    "이때, $\\frac{\\partial{z}}{\\partial{x}} = y$ , $\\frac{\\partial{z}}{\\partial{y}} = x $이 됨을 쉽게 알 수 있다. 이를 계산그래프로 그려보면,\n",
    "![](data/images/fig%205-12.png)\n",
    "즉, $x$로 부터온 노드의 역전파일 경우 $y$를 곱하고 반대의 경우도 마찬가지가 된다.\n",
    "\n",
    "구체적인 예로  $10\\times5=50$의 계산이 있고 상류에서 1.3의 미분값이 전달될 때 계산 그래프를 그리면 다음과 같다.\n",
    "![](data/images/fig%205-13.png)\n",
    "\n",
    "여기서 차이점은 덧셈의 역전파의 경우에는 순방향의 입력 신호 값에 관계없이 상류의 값을 그대로 전달하기 때문에 순방향의 입력신호를 저장할 필요가 없지만, 곱셈은 그렇지 않기 때문에 순방향의 입력신호를 저장해 둘 필요가 있다.\n",
    "\n",
    "5.3.3 사과 쇼핑의 예\n",
    "\n",
    "이 장의 시작에서 다루었던 사과문제에 대해 사과가격 뿐 아니라 사과 갯수, 소비세의 변화에 대한 지불금액의 미분도 계산해보자.\n",
    "\n",
    "[그림5-14] 사과 쇼핑의 예\n",
    "![](data/images/fig%205-14.png)\n",
    "이 그래프를 해석해보면, 사과 가격의 미분은 2.2, 사과 개수의 미분은 110, 소비세의 미분은 200이 된다. \n",
    "\n",
    "사과 가격과 소비세가 같은 양만큼 증가하면, 지불 금액의 변화량은 사과 가격이 2.2, 소비세는 200의 영향을 끼치는 것이다.\n",
    "\n",
    "소비세와 사과가격의 단위가 다르기 때문에 단위를 고려하여 비교해야 한다.\n",
    "\n",
    "5.4 단순한 계층 구현\n",
    "\n",
    "지금껏 했던 사과쇼핑을 구현해보자. 그리고 이 구현을 함수가 아닌 Class로 구현할것이다.\n",
    "\n",
    "5.4.1 곱셈 계층"
   ]
  },
  {
   "cell_type": "code",
   "execution_count": 2,
   "metadata": {
    "collapsed": true
   },
   "outputs": [],
   "source": [
    "class MulLayer:\n",
    "    def __init__(self): #인스턴스 변수 x와 y를 초기화.\n",
    "        self.x = None\n",
    "        self.y = None\n",
    "        \n",
    "    def forward(self, x, y): #x,y를 받아 순전파로 xy를 출력\n",
    "        self.x = x\n",
    "        self.y = y\n",
    "        out = x * y\n",
    "        \n",
    "        return out\n",
    "    \n",
    "    def backward(self, dout): #상류에서 dout값을 받아 미분값 역전파\n",
    "        dx = dout * self.y\n",
    "        dy = dout * self.x\n",
    "        \n",
    "        return dx, dy\n"
   ]
  },
  {
   "cell_type": "markdown",
   "metadata": {},
   "source": [
    "이 클래스를 통해 그림 5-16의 상황을 구현해보자.\n",
    "\n",
    "[그림 5-16]\n",
    "![](data/images/fig%205-16.png)"
   ]
  },
  {
   "cell_type": "code",
   "execution_count": 5,
   "metadata": {
    "collapsed": false
   },
   "outputs": [
    {
     "name": "stdout",
     "output_type": "stream",
     "text": [
      "220.00000000000003\n"
     ]
    }
   ],
   "source": [
    "#순전파\n",
    "apple = 100\n",
    "apple_num = 2\n",
    "tax = 1.1\n",
    "\n",
    "#계층들\n",
    "mul_apple_layer = MulLayer() #사과에 대한..\n",
    "mul_tax_layer = MulLayer() #세금에 대한 ..\n",
    "\n",
    "#순전파\n",
    "apple_price = mul_apple_layer.forward(apple, apple_num) #그림 5-16의 첫번째 노드\n",
    "price = mul_tax_layer.forward(apple_price,tax) #그림 5-16의 두번째 노드\n",
    "\n",
    "print(price) # 220이 나와야 한다."
   ]
  },
  {
   "cell_type": "code",
   "execution_count": 7,
   "metadata": {
    "collapsed": false
   },
   "outputs": [
    {
     "name": "stdout",
     "output_type": "stream",
     "text": [
      "2.2 110.00000000000001 200\n"
     ]
    }
   ],
   "source": [
    "#역전파\n",
    "dprice = 1\n",
    "dapple_price, dtax = mul_tax_layer.backward(dprice)\n",
    "dapple, dapple_num = mul_apple_layer.backward(dapple_price)\n",
    "\n",
    "print(dapple, dapple_num, dtax)"
   ]
  },
  {
   "cell_type": "markdown",
   "metadata": {},
   "source": [
    "5.4.2 덧셈 계층"
   ]
  },
  {
   "cell_type": "code",
   "execution_count": 9,
   "metadata": {
    "collapsed": true
   },
   "outputs": [],
   "source": [
    "class AddLayer:\n",
    "    def __init__(self):\n",
    "        pass\n",
    "    \n",
    "    def forward(self,x,y):\n",
    "        out = x + y\n",
    "        return out\n",
    "    \n",
    "    def backward(self, dout):\n",
    "        dx = dout * 1\n",
    "        dy = dout * 1\n",
    "        return dx, dy"
   ]
  },
  {
   "cell_type": "markdown",
   "metadata": {},
   "source": [
    "이 클래스로 더하기에 대한 그림5-17의 상황을 구현해보자.\n",
    "![](data/images/fig%205-17.png)"
   ]
  },
  {
   "cell_type": "code",
   "execution_count": 11,
   "metadata": {
    "collapsed": false
   },
   "outputs": [
    {
     "name": "stdout",
     "output_type": "stream",
     "text": [
      "price는 715.0000000000001\n",
      "dapple_num은 110.00000000000001\n",
      "dapple는 2.2\n",
      "dorange는 3.3000000000000003\n",
      "dorange_num은 165.0\n",
      "dtax는 650\n"
     ]
    }
   ],
   "source": [
    "apple = 100\n",
    "apple_num = 2\n",
    "orange = 150\n",
    "orange_num = 3\n",
    "tax = 1.1\n",
    "\n",
    "# layer\n",
    "mul_apple_layer = MulLayer()\n",
    "mul_orange_layer = MulLayer()\n",
    "add_apple_orange_layer = AddLayer()\n",
    "mul_tax_layer = MulLayer()\n",
    "\n",
    "# forward\n",
    "apple_price = mul_apple_layer.forward(apple, apple_num)  # (1)\n",
    "orange_price = mul_orange_layer.forward(orange, orange_num)  # (2)\n",
    "all_price = add_apple_orange_layer.forward(apple_price, orange_price)  # (3)\n",
    "price = mul_tax_layer.forward(all_price, tax)  # (4)\n",
    "\n",
    "# backward\n",
    "dprice = 1\n",
    "dall_price, dtax = mul_tax_layer.backward(dprice)  # (4)\n",
    "dapple_price, dorange_price = add_apple_orange_layer.backward(dall_price)  # (3)\n",
    "dorange, dorange_num = mul_orange_layer.backward(dorange_price)  # (2)\n",
    "dapple, dapple_num = mul_apple_layer.backward(dapple_price)  # (1)\n",
    "\n",
    "print(\"price는 {}\\ndapple_num은 {}\\ndapple는 {}\\ndorange는 {}\\ndorange_num은 {}\\ndtax는 {}\". format(price, dapple_num, dapple, dorange, dorange_num, dtax))"
   ]
  },
  {
   "cell_type": "code",
   "execution_count": null,
   "metadata": {
    "collapsed": true
   },
   "outputs": [],
   "source": []
  }
 ],
 "metadata": {
  "kernelspec": {
   "display_name": "Python 3",
   "language": "python",
   "name": "python3"
  },
  "language_info": {
   "codemirror_mode": {
    "name": "ipython",
    "version": 3
   },
   "file_extension": ".py",
   "mimetype": "text/x-python",
   "name": "python",
   "nbconvert_exporter": "python",
   "pygments_lexer": "ipython3",
   "version": "3.6.0"
  }
 },
 "nbformat": 4,
 "nbformat_minor": 2
}
