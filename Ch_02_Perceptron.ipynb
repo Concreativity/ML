{
 "cells": [
  {
   "cell_type": "markdown",
   "metadata": {},
   "source": [
    "# ch_02_퍼셉트론"
   ]
  },
  {
   "cell_type": "markdown",
   "metadata": {},
   "source": [
    "2.1 퍼셉트론이란?\n",
    "\n",
    "프랑크 로렌블라트가 고안.\n",
    "다수의 신호를 입력신호로 받아 하나의 신호를 출력."
   ]
  },
  {
   "cell_type": "markdown",
   "metadata": {},
   "source": [
    "그림 2-1 : 간단한 퍼셉트론\n",
    "![](https://github.com/ObscureResearcher/ML/blob/master/fig%202-1.png?raw=true)\n",
    "식 2-1 : 퍼셉트론 작동 원리를 나타낸 수식\n",
    "![title](/notebooks/equations_and_figures/deep_learning_images/e 2.1.png)"
   ]
  },
  {
   "cell_type": "markdown",
   "metadata": {},
   "source": [
    "2.2 단순한 논리 회로\n",
    "AND, NAND, OR 논리 회로를 퍼셉트론으로 표현해보자.\n",
    "\n",
    "적절한($\\mathbf{w}_{1}, \\mathbf{w}_{2}, \\, \\boldsymbol{\\theta})$\n",
    "를 찾으면 된다.\n",
    "\n",
    "AND를 구현해보자."
   ]
  },
  {
   "cell_type": "markdown",
   "metadata": {},
   "source": [
    "2.3 퍼셉트론 구현하기"
   ]
  },
  {
   "cell_type": "code",
   "execution_count": 1,
   "metadata": {
    "collapsed": false
   },
   "outputs": [
    {
     "name": "stdout",
     "output_type": "stream",
     "text": [
      "AND(0,0) is 0\n",
      "AND(1,0) is 0\n",
      "AND(0,1) is 0\n",
      "AND(1,1) is 1\n"
     ]
    }
   ],
   "source": [
    "#2.3.1\n",
    "def AND(x1,x2):\n",
    "    w1, w2, theta = 0.5, 0.5, 0.7\n",
    "    tmp = x1*w1 + x2*w2\n",
    "    if tmp < theta:\n",
    "        return 0\n",
    "    elif tmp > theta:\n",
    "        return 1\n",
    "    \n",
    "a, b, c, d = AND(0,0), AND(1,0), AND(0,1), AND(1,1)  \n",
    "print('AND(0,0) is {}\\nAND(1,0) is {}\\nAND(0,1) is {}\\nAND(1,1) is {}'.format(a,b,c,d)) "
   ]
  },
  {
   "cell_type": "markdown",
   "metadata": {},
   "source": [
    "2.3.2 가중치와 편향 도입\n",
    "\n",
    "식 2.1에서 임계치의 값을 약간 변형하여\n",
    "bias관점으로 식을 변형\n",
    "\n",
    "식 2.2 (임계점을 0으로 보고 b는 편향으로 보자)\n",
    "![title](/notebooks/equations_and_figures/deep_learning_images/e 2.2.png)"
   ]
  },
  {
   "cell_type": "code",
   "execution_count": 4,
   "metadata": {
    "collapsed": false
   },
   "outputs": [
    {
     "data": {
      "text/plain": [
       "-0.19999999999999996"
      ]
     },
     "execution_count": 4,
     "metadata": {},
     "output_type": "execute_result"
    }
   ],
   "source": [
    "#2.3.2 bias 개념 도입\n",
    "\n",
    "import numpy as np\n",
    "x = np.array([0,1]) # Input 데이터\n",
    "w = np.array([0.5,0.5]) # weight\n",
    "b = -0.7 # 가중치\n",
    "\n",
    "w*x #성분끼리의 곱\n",
    "\n",
    "np.sum(w*x)\n",
    "\n",
    "np.sum(w*x)+b #이 값이 0을 넘으면 1 0을 넘지 않으면 0을 출력하는 퍼셉트론"
   ]
  },
  {
   "cell_type": "code",
   "execution_count": 5,
   "metadata": {
    "collapsed": true
   },
   "outputs": [],
   "source": [
    "def AND(x1,x2):\n",
    "    x = np.array([x1,x2])\n",
    "    w = np.array([0.5,0.5])\n",
    "    b = -0.7\n",
    "    tmp = np.sum(w*x)+b\n",
    "    if tmp <= 0: #임계점을 넘지 못함\n",
    "        return 0\n",
    "    else:\n",
    "        return 1\n",
    "    "
   ]
  },
  {
   "cell_type": "markdown",
   "metadata": {
    "collapsed": true
   },
   "source": [
    "위에서 b는 뉴런이 얼마나 쉽게 활성화 되는지를 결정.\n",
    "b가 낮다면 쉽게 뉴런이 활성화. b가 높다면 잘 활성화 되지 않을 것.\n",
    "\n",
    "이번엔 NAND (~AND)를 구현해보자"
   ]
  },
  {
   "cell_type": "code",
   "execution_count": 6,
   "metadata": {
    "collapsed": false
   },
   "outputs": [
    {
     "name": "stdout",
     "output_type": "stream",
     "text": [
      "NAND(0,0) is 1\n",
      "NAND(1,0) is 1\n",
      "NAND(0,1) is 1\n",
      "NAND(1,1) is 0\n"
     ]
    }
   ],
   "source": [
    "#NAND 퍼셉트론( AND 퍼셉트론에서 활성화되는 부등호만 반대로 해주면 될듯)\n",
    "def NAND(x1,x2):\n",
    "    x = np.array([x1,x2])\n",
    "    w = np.array([0.5,0.5])\n",
    "    b = -0.7\n",
    "    tmp = np.sum(w*x)+b\n",
    "    if tmp > 0: \n",
    "        return 0\n",
    "    else:\n",
    "        return 1\n",
    "    \n",
    "a, b, c, d = NAND(0,0), NAND(1,0), NAND(0,1), NAND(1,1)  \n",
    "print('NAND(0,0) is {}\\nNAND(1,0) is {}\\nNAND(0,1) is {}\\nNAND(1,1) is {}'.format(a,b,c,d))"
   ]
  },
  {
   "cell_type": "code",
   "execution_count": 7,
   "metadata": {
    "collapsed": false
   },
   "outputs": [
    {
     "name": "stdout",
     "output_type": "stream",
     "text": [
      "OR(0,0) is 0\n",
      "OR(1,0) is 1\n",
      "OR(0,1) is 1\n",
      "OR(1,1) is 1\n"
     ]
    }
   ],
   "source": [
    "#OR 퍼셉트론 (가중치를 살짝 조절)\n",
    "def OR(x1,x2):\n",
    "    x = np.array([x1,x2])\n",
    "    w = np.array([0.5,0.5])\n",
    "    b = -0.2\n",
    "    tmp = np.sum(w*x)+b\n",
    "    if tmp <= 0: \n",
    "        return 0\n",
    "    else:\n",
    "        return 1\n",
    "    \n",
    "a, b, c, d = OR(0,0), OR(1,0), OR(0,1), OR(1,1)  \n",
    "print('OR(0,0) is {}\\nOR(1,0) is {}\\nOR(0,1) is {}\\nOR(1,1) is {}'.format(a,b,c,d))"
   ]
  },
  {
   "cell_type": "markdown",
   "metadata": {},
   "source": [
    "2.4 퍼셉트론의 한계\n",
    "\n",
    "2.4.1 XOR 회로\n",
    "\n",
    "OR 회로의 가중치를 적절히 조정하면 OR 퍼셉트론은 그림 2-6 처럼 선형으로 점을 분리 하는 모양이다.\n",
    "\n",
    "그림 2-6 OR 회로\n",
    "![title](/notebooks/equations_and_figures/deep_learning_images/fig 2-6.png)\n",
    "하지만 XOR 회로는 선형으로 분리 할 수 없다.\n",
    "\n",
    "그림 2-7 XOR 회로는 직선으로 분리 할 수 없다.\n",
    "![title](/notebooks/equations_and_figures/deep_learning_images/fig 2-7.png)\n",
    "때문에 퍼셉트론으로는 구현이 불가능하다.\n",
    "\n",
    "2.4.2 선형 vs 비선형\n",
    "\n",
    "선형으론 분리가 불가능하지만, 비선형으론 가능\n",
    "\n",
    "비선형에 해당하는 퍼셉트론 개념이 필요.\n",
    "\n",
    "2.5 다층 퍼셉트론\n",
    "\n",
    "비선형 퍼셉트론에 해당하는 개념이 바로 다층 퍼셉트론 (MLP)이다. \n",
    "뒤에서 자세히 다룸.\n",
    "\n",
    "2.5.1 기존 게이트 조합\n",
    "\n",
    "다층 하기 전에 기존의 AND,NAND,OR을 조합해서 XOR 회로를 만들어보자.\n",
    "\n",
    "그림 2-11 처럼 조합하면 그림 2-12 처럼 XOR 논리표를 구현 가능.\n",
    "\n",
    "그림 2-11 \n",
    "![title](/notebooks/equations_and_figures/deep_learning_images/fig 2-11.png)\n",
    "\n",
    "그림 2-12\n",
    "![title](/notebooks/equations_and_figures/deep_learning_images/fig 2-12.png)\n",
    "\n",
    "2.5.2 XOR 게이트 구현\n"
   ]
  },
  {
   "cell_type": "code",
   "execution_count": 16,
   "metadata": {
    "collapsed": true
   },
   "outputs": [],
   "source": [
    "#2.5.2 XOR 게이트\n",
    "def XOR(x1,x2):\n",
    "    s1 = NAND(x1,x2)\n",
    "    s2 = OR(x1,x2)\n",
    "    y = AND(s1,s2)\n",
    "    return y\n"
   ]
  },
  {
   "cell_type": "code",
   "execution_count": 17,
   "metadata": {
    "collapsed": false
   },
   "outputs": [
    {
     "data": {
      "text/plain": [
       "(0, 0)"
      ]
     },
     "execution_count": 17,
     "metadata": {},
     "output_type": "execute_result"
    }
   ],
   "source": [
    "XOR(0,0),XOR(1,1)"
   ]
  },
  {
   "cell_type": "code",
   "execution_count": 18,
   "metadata": {
    "collapsed": false
   },
   "outputs": [
    {
     "data": {
      "text/plain": [
       "(1, 1)"
      ]
     },
     "execution_count": 18,
     "metadata": {},
     "output_type": "execute_result"
    }
   ],
   "source": [
    "XOR(1,0),XOR(0,1)"
   ]
  },
  {
   "cell_type": "markdown",
   "metadata": {},
   "source": [
    "위의 퍼셉트론을 그림으로 그려보면 2-13과 같다.\n",
    "\n",
    "그림 2-13\n",
    "![title](/notebooks/equations_and_figures/deep_learning_images/fig 2-13.png)\n",
    "\n",
    "결국 층이 1개가 아닌 2개의 층으로 이루어진 다층 퍼셉트론이 된다.\n",
    "\n",
    "\n",
    "2.6 NAND에서 컴퓨터까지\n",
    "\n",
    "잘 하면 NAND 게이트만으로 컴퓨터를 구현 가능. -> 다른 논문 참고.\n",
    "\n",
    "\n",
    "2.7 정리\n",
    "\n",
    "퍼셉트론은 신경망의 기초이다.\n",
    "\n",
    "퍼셉트론은 가중치와 편향을 모수로 갖는다.\n",
    "\n",
    "XOR 게이트는 단층 퍼셉트론으론 표현할 수 없다.\n",
    "\n",
    "2층 퍼셉트론을 이용하면 XOR 게이트를 표현할 수 있다.\n",
    "\n",
    "단층 퍼셉트론은 직선으로 분리가능한 영역만 구현 가능.\n"
   ]
  },
  {
   "cell_type": "code",
   "execution_count": null,
   "metadata": {
    "collapsed": true
   },
   "outputs": [],
   "source": []
  }
 ],
 "metadata": {
  "anaconda-cloud": {},
  "kernelspec": {
   "display_name": "Python [default]",
   "language": "python",
   "name": "python3"
  },
  "language_info": {
   "codemirror_mode": {
    "name": "ipython",
    "version": 3
   },
   "file_extension": ".py",
   "mimetype": "text/x-python",
   "name": "python",
   "nbconvert_exporter": "python",
   "pygments_lexer": "ipython3",
   "version": "3.5.2"
  }
 },
 "nbformat": 4,
 "nbformat_minor": 1
}
